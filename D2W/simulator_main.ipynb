{
 "cells": [
  {
   "cell_type": "markdown",
   "metadata": {},
   "source": [
    "# Yield Model Simulator for D2W hybrid bonding\n",
    "#### Author: Zhichao Chen\n",
    "#### Date: Aug 25, 2025\n",
    "#### Description: YAP+ (pad-layout-aware yield analysis)"
   ]
  },
  {
   "cell_type": "code",
   "execution_count": 1,
   "metadata": {},
   "outputs": [],
   "source": [
    "%reload_ext autoreload\n",
    "%autoreload 2"
   ]
  },
  {
   "cell_type": "code",
   "execution_count": 2,
   "metadata": {},
   "outputs": [],
   "source": [
    "import numpy as np\n",
    "from utils.util import *\n",
    "import time\n",
    "import matplotlib.pyplot as plt\n",
    "from assembly_yield_simulator import Assembly_Yield_Simulator\n",
    "from pad_bitmap_generation import pad_bitmap_generate_random"
   ]
  },
  {
   "cell_type": "code",
   "execution_count": 6,
   "metadata": {},
   "outputs": [
    {
     "name": "stdout",
     "output_type": "stream",
     "text": [
      "PAD_ARR_ROW: 10000\n",
      "PAD_ARR_COL: 10000\n",
      "Number of pad blocks: 10000\n",
      "Pad block size: 100\n",
      "Number of critical pad blocks: 9999\n",
      "Number of redundant pad blocks: 1\n",
      "Number of dummy pad blocks: 0\n",
      "Processing redundant block 1/1...  cluster size: 25\n",
      "Pad bitmap collections info saved.\n",
      "Processing 1/1, particle dednsity: 1e-09, translation: 0.01, dish_std: 1.0\n",
      "Processing die 0/100...\n",
      "The assembly yield is 85.00%.\n",
      "The assembly yield list is:  [0.85]\n",
      "Total time taken: 73.60 seconds\n"
     ]
    },
    {
     "data": {
      "image/png": "[encoded data removed]",
      "text/plain": [
       "<Figure size 800x800 with 1 Axes>"
      ]
     },
     "metadata": {},
     "output_type": "display_data"
    }
   ],
   "source": [
    "# Load configuration\n",
    "cfg = load_modeling_config(path='configs/config.yaml', \n",
    "                     mode='d2w_simulation',\n",
    "                     debug=False)\n",
    "num_points = 1     # Number of points for parameter sweep\n",
    "# Explore the impact of all factors on the assembly yield\n",
    "die_size_list = np.linspace(1e+4, 1e+4, num_points)\n",
    "pitch_list = np.linspace(1, 1, num_points)\n",
    "# particle_density_list = np.linspace(1e-8, 1e-8, num_points)  # More uniform distribution\n",
    "particle_density_list = np.linspace(1e-9, 1e-9, num_points) \n",
    "t_0_list = np.linspace(0.1, 0.1, num_points)\n",
    "dish_std_list = np.linspace(1, 1, num_points)\n",
    "translation_list = np.linspace(1e-2, 1e-2, num_points)\n",
    "rotation_mean_list = np.logspace(-7, -7, num_points)\n",
    "Roughness_sigma_list = np.linspace(1.0e-9, 1.0e-9, num_points)\n",
    "PAD_BOT_R_ratio_list = np.linspace(0.5, 0.5, num_points)\n",
    "PAD_TOP_R_ratio_list = np.linspace(2/3, 2/3, num_points)\n",
    "bow_difference_mean_list = np.linspace(10, 10, num_points)\n",
    "\n",
    "assembly_yield_list = []\n",
    "\n",
    "# Generate pad bitmap collection\n",
    "pad_bitmap_collection = pad_bitmap_generate_random(cfg=cfg)  \n",
    "\n",
    "start_time = time.time()\n",
    "single_config_yield_list_array = np.zeros([len(particle_density_list), cfg.simulation_times * cfg.NUM_DIES])\n",
    "cfg.approximate_set = 100\n",
    "cfg.NUM_DIES = 100  # Number of dies to simulate\n",
    "\n",
    "for i in range(num_points):\n",
    "    print(\"Processing {}/{}, particle dednsity: {}, translation: {}, dish_std: {}\".format(i + 1, len(particle_density_list), particle_density_list[i], translation_list[i], dish_std_list[i]))\n",
    "    # Update parameters\n",
    "    cfg.DIE_W = float(die_size_list[i])  # die width (um)\n",
    "    cfg.DIE_L = float(die_size_list[i])  # die length (um)\n",
    "    cfg.PITCH = float(pitch_list[i])  # pitch (um)\n",
    "    cfg.PAD_TOP_R_ratio = float(PAD_TOP_R_ratio_list[i])  # top Cu pad radius ratio\n",
    "    cfg.PAD_BOT_R_ratio = float(PAD_BOT_R_ratio_list[i])  # bottom Cu pad radius ratio\n",
    "    cfg.SYSTEM_TRANSLATION_X_MEAN = float(translation_list[i])  # systematic translation mean (um) - x direction\n",
    "    cfg.SYSTEM_TRANSLATION_Y_MEAN = float(translation_list[i])  # systematic translation mean (um) - y direction\n",
    "    cfg.SYSTEM_ROTATION_MEAN = float(rotation_mean_list[i])  # systematic rotation mean (rad)\n",
    "    cfg.D0 = float(particle_density_list[i])  # particle density (um^{-2})\n",
    "    cfg.t_0 = float(t_0_list[i])  # smallest particle thickness (um)\n",
    "    cfg.BOW_DIFFERENCE_MEAN = float(bow_difference_mean_list[i])  # bow difference mean (um)\n",
    "    cfg.TOP_DISH_STD = float(dish_std_list[i])  # Top Cu pad dish standard deviation (nm)\n",
    "    cfg.BOT_DISH_STD = float(dish_std_list[i])  # Bottom Cu pad dish standard deviation (nm)\n",
    "    cfg.Roughness_sigma = float(Roughness_sigma_list[i])  # Surface roughness standard deviation (m)\n",
    "    # Update above parameters in the configuration\n",
    "    update_config_items(cfg=cfg, mode='d2w_simulation')\n",
    "\n",
    "    assembly_yield, single_config_yield_list = Assembly_Yield_Simulator(\n",
    "        cfg=cfg,\n",
    "        pad_bitmap_collection=pad_bitmap_collection,                                               \n",
    "    )\n",
    "                                                                        \n",
    "    assembly_yield_list.append(assembly_yield)\n",
    "    single_config_yield_list_array[i] = np.array(single_config_yield_list).flatten()\n",
    "    \n",
    "    if i % 10 == 0 or i == len(particle_density_list) - 1:\n",
    "        print(\"The assembly yield list is: \", assembly_yield_list)\n",
    "        # # # Save the data\n",
    "# np.save(\"correlation/sim_config_info_ovl_300pts_20000dies.npy\", cfg)\n",
    "# np.save(\"correlation/sim_yield_list_ovl_300pts_20000dies.npy\", assembly_yield_list)\n",
    "# np.save(\"correlation/single_config_yield_list_array_ovl_300pts_20000dies.npy\", single_config_yield_list_array)\n",
    "print(\"Total time taken: {:.2f} seconds\".format(time.time() - start_time))"
   ]
  },
  {
   "cell_type": "code",
   "execution_count": null,
   "metadata": {},
   "outputs": [],
   "source": [
    "# np.save('correlation/particle_density/sim_df_yield_list_pd_-10_-7d56_size_1e4_300params_200dim.npy', assembly_yield_list)"
   ]
  },
  {
   "cell_type": "code",
   "execution_count": null,
   "metadata": {},
   "outputs": [],
   "source": [
    "for i in range(len(assembly_yield_list)):\n",
    "    print(assembly_yield_list[i])"
   ]
  }
 ],
 "metadata": {
  "kernelspec": {
   "display_name": "envC247",
   "language": "python",
   "name": "python3"
  },
  "language_info": {
   "codemirror_mode": {
    "name": "ipython",
    "version": 3
   },
   "file_extension": ".py",
   "mimetype": "text/x-python",
   "name": "python",
   "nbconvert_exporter": "python",
   "pygments_lexer": "ipython3",
   "version": "3.12.2"
  }
 },
 "nbformat": 4,
 "nbformat_minor": 2
}
